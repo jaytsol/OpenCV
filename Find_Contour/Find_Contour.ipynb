{
 "cells": [
  {
   "cell_type": "markdown",
   "id": "ed8db3e5-fbb5-4fea-a64e-acd400f3ee32",
   "metadata": {},
   "source": [
    "# Contour"
   ]
  },
  {
   "cell_type": "code",
   "execution_count": 22,
   "id": "2b118fdd-4b8e-45a8-9d05-716b9f063d6f",
   "metadata": {},
   "outputs": [],
   "source": [
    "import cv2\n",
    "import numpy as np"
   ]
  },
  {
   "cell_type": "code",
   "execution_count": 23,
   "id": "30739735-78f8-479e-9b23-364f4231ce0c",
   "metadata": {},
   "outputs": [],
   "source": [
    "def getContours(img):\n",
    "    contours, hierarchy = cv2.findContours(img, cv2.RETR_EXTERNAL, cv2.CHAIN_APPROX_NONE)\n",
    "    for cnt in contours:\n",
    "        area = cv2.contourArea(cnt)\n",
    "        print(area)\n",
    "        cv2.drawContours(imgContour, cnt, -1, (255, 0, 0), 3)"
   ]
  },
  {
   "cell_type": "code",
   "execution_count": 24,
   "id": "d8d1f3ff-eab4-41a2-afa2-6f4dad52ce77",
   "metadata": {},
   "outputs": [
    {
     "name": "stdout",
     "output_type": "stream",
     "text": [
      "3165.5\n",
      "2872.0\n",
      "2881.0\n",
      "1950.5\n",
      "1880.5\n",
      "1821.0\n",
      "2611.0\n",
      "2896.0\n",
      "2239.0\n"
     ]
    },
    {
     "data": {
      "text/plain": [
       "-1"
      ]
     },
     "execution_count": 24,
     "metadata": {},
     "output_type": "execute_result"
    }
   ],
   "source": [
    "path = 'shapes.jpg'\n",
    "img = cv2.imread(path)\n",
    "imgContour = img.copy()\n",
    "\n",
    "imgGray = cv2.cvtColor(img,cv2.COLOR_BGR2GRAY)\n",
    "imgBlur = cv2.GaussianBlur(imgGray,(7,7),1)\n",
    "imgCanny = cv2.Canny(imgBlur,50,50)\n",
    "getContours(imgCanny)\n",
    "\n",
    "imgBlank = np.zeros_like(img)\n",
    "cv2.imshow(\"Original\", img)\n",
    "cv2.imshow(\"Gray\", imgGray)\n",
    "cv2.imshow(\"Blur\", imgBlur)\n",
    "cv2.imshow(\"Canny\", imgCanny)\n",
    "cv2.imshow(\"Blank\", imgContour)\n",
    "cv2.waitKey(0)"
   ]
  },
  {
   "cell_type": "markdown",
   "id": "8382cea7-af12-45c4-a822-3eabe4a019a9",
   "metadata": {},
   "source": [
    "#### https://www.youtube.com/watch?v=WQeoO7MI0Bs&t=2060s\n",
    "#### 1시간 28분까지."
   ]
  },
  {
   "cell_type": "code",
   "execution_count": null,
   "id": "83325af5-dbea-45e8-93b0-31de0311fbbb",
   "metadata": {},
   "outputs": [],
   "source": []
  }
 ],
 "metadata": {
  "kernelspec": {
   "display_name": "Python 3",
   "language": "python",
   "name": "python3"
  },
  "language_info": {
   "codemirror_mode": {
    "name": "ipython",
    "version": 3
   },
   "file_extension": ".py",
   "mimetype": "text/x-python",
   "name": "python",
   "nbconvert_exporter": "python",
   "pygments_lexer": "ipython3",
   "version": "3.8.10"
  }
 },
 "nbformat": 4,
 "nbformat_minor": 5
}
