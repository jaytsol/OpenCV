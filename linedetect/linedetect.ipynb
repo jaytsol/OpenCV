{
 "cells": [
  {
   "cell_type": "markdown",
   "id": "df99a763-12e7-432d-a959-03fed82b35b3",
   "metadata": {},
   "source": [
    "# 차선검출"
   ]
  },
  {
   "cell_type": "markdown",
   "id": "93ac5dd1-aa69-4e9c-8486-c25e448deb7a",
   "metadata": {},
   "source": [
    "## <br>라이브러리"
   ]
  },
  {
   "cell_type": "code",
   "execution_count": 1,
   "id": "2f3a2435-a7ed-4ac9-afbf-3b414830a233",
   "metadata": {},
   "outputs": [],
   "source": [
    "import cv2\n",
    "import numpy as np"
   ]
  },
  {
   "cell_type": "markdown",
   "id": "0665ebf1-d9f7-4e56-8c51-8e9624825461",
   "metadata": {},
   "source": [
    "## <br>함수부"
   ]
  },
  {
   "cell_type": "code",
   "execution_count": 2,
   "id": "501adcf0-834b-493e-8707-7d06e2a9cb40",
   "metadata": {},
   "outputs": [],
   "source": [
    "def grayscale(img):\n",
    "    return cv2.cvtColor(img, cv2.COLOR_RGB2GRAY)\n",
    "\n",
    "def canny(img, low_threshold, high_threshold):\n",
    "    return cv2.Canny(img, low_threshold, high_threshold)\n",
    "\n",
    "def gaussian_blur(img, kernel_size):\n",
    "    return cv2.GaussianBlur(img, (kernel_size, kernel_size), 0)\n",
    "\n",
    "def region_of_interest(img, vertices, color3=(255,255,255), color1=255):    # ROI 설정\n",
    "    mask = np.zeros_like(img)\n",
    "    \n",
    "    if len(img.shape) > 2:\n",
    "        color = color3\n",
    "    else:\n",
    "        color = color1\n",
    "        \n",
    "    cv2.fillPoly(mask, vertices, color)    # ROI부분을 color로 채움\n",
    "    \n",
    "    ROI_image = cv2.bitwise_and(img, mask)\n",
    "    return ROI_image\n",
    "\n",
    "def draw_lines(img, lines, color=[0, 0, 255], thickness=2):\n",
    "    for line in lines:\n",
    "        for x1, y1, x2, y2 in line:\n",
    "            cv2.line(img, (x1, y1), (x2, y2), color, thickness)\n",
    "\n",
    "def hough_lines(img, rho, theta, threshold, min_line_len, max_line_gap):    # 허프변환\n",
    "    lines = cv2.HoughLinesP(img, rho, theta, threshold, np.array([]), minLineLength=min_line_len, maxLineGap=max_line_gap)\n",
    "    line_img = np.zeros((img.shape[0], img.shape[1], 3), dtype=np.uint8)\n",
    "    draw_lines(line_img, lines)\n",
    "    \n",
    "    return line_img\n",
    "\n",
    "def weighted_img(img, initial_img, a=1, b=1., c=0.):    # 두 이미지 겹치기\n",
    "    return cv2.addWeighted(initial_img, a, img, b, c)"
   ]
  },
  {
   "cell_type": "markdown",
   "id": "aca599c4-bc3e-4452-9296-0472214900fc",
   "metadata": {},
   "source": [
    "## <br>이미지 처리 (grayscale - invert - blur - canny)"
   ]
  },
  {
   "cell_type": "code",
   "execution_count": 3,
   "id": "08bb7c6d-671b-42a8-9a59-82b59baf98dd",
   "metadata": {},
   "outputs": [],
   "source": [
    "original_image = cv2.imread('C:/Users/admin/Desktop/Hustar/Project/linedetect/source.jpg')\n",
    "gray_image = grayscale(original_image)\n",
    "invert_image = cv2.bitwise_not(gray_image)\n",
    "blur_image = gaussian_blur(invert_image, 5)\n",
    "canny_image = canny(blur_image, 70, 100)\n",
    "\n",
    "original_image_resized = cv2.resize(original_image, dsize=(0, 0), fx=0.5, fy=0.5, interpolation=cv2.INTER_LINEAR)\n",
    "gray_image_resized = cv2.resize(gray_image, dsize=(0, 0), fx=0.5, fy=0.5, interpolation=cv2.INTER_LINEAR)\n",
    "invert_image_resized = cv2.resize(invert_image, dsize=(0, 0), fx=0.5, fy=0.5, interpolation=cv2.INTER_LINEAR)\n",
    "blur_image_resized = cv2.resize(blur_image, dsize=(0, 0), fx=0.5, fy=0.5, interpolation=cv2.INTER_LINEAR)\n",
    "canny_image_resized = cv2.resize(canny_image, dsize=(0, 0), fx=0.5, fy=0.5, interpolation=cv2.INTER_LINEAR)\n",
    "cv2.imshow('original', original_image_resized)\n",
    "cv2.imshow('gray', gray_image_resized)\n",
    "cv2.imshow('invert', invert_image_resized)\n",
    "cv2.imshow('blur', blur_image_resized)\n",
    "cv2.imshow('canny', canny_image_resized)\n",
    "\n",
    "cv2.waitKey(0)\n",
    "cv2.destroyAllWindows()"
   ]
  },
  {
   "cell_type": "markdown",
   "id": "1089f947-d1ba-4b83-8863-8e7eba4df07a",
   "metadata": {},
   "source": [
    "## <br>ROI 위치 설정"
   ]
  },
  {
   "cell_type": "markdown",
   "id": "2ba4fc2b-d095-47ba-83f3-5d5664dc3e98",
   "metadata": {},
   "source": [
    "invert test용 라인 (ROI 위치 확인용)"
   ]
  },
  {
   "cell_type": "code",
   "execution_count": 5,
   "id": "78dc63e9-e798-4093-aef0-b160bf065ad3",
   "metadata": {},
   "outputs": [],
   "source": [
    "height, width = original_image.shape[:2]\n",
    "vertices = np.array([[(width/4-45, height), (width/3+45, height/3+45), (width*2/3-45, height/3+45), (width*3/4+45, height)]], dtype=np.int32)\n",
    "roi_image = region_of_interest(invert_image, vertices)\n",
    "cv2.imshow('ROI', roi_image)\n",
    "cv2.waitKey(0)\n",
    "cv2.destroyAllWindows()"
   ]
  },
  {
   "cell_type": "markdown",
   "id": "ab4730ff-c28d-4b97-a053-56e5932417fe",
   "metadata": {},
   "source": [
    "canny 실전용 라인"
   ]
  },
  {
   "cell_type": "code",
   "execution_count": 6,
   "id": "ead5db74-5137-4308-9c8a-0805f1bf3fa4",
   "metadata": {},
   "outputs": [],
   "source": [
    "height, width = original_image.shape[:2]\n",
    "# 여기에 vertice 라인 넣음. 추후에\n",
    "roi_image = region_of_interest(canny_image, vertices)\n",
    "cv2.imshow('ROI', roi_image)\n",
    "cv2.waitKey(0)\n",
    "cv2.destroyAllWindows()"
   ]
  },
  {
   "cell_type": "markdown",
   "id": "d52236c1-4b98-4d7e-9f7e-73d5a976260e",
   "metadata": {},
   "source": [
    "## <br>HoughLine 적용"
   ]
  },
  {
   "cell_type": "code",
   "execution_count": 7,
   "id": "356bc3e7-d5cd-4b1c-8992-188acb7f3181",
   "metadata": {},
   "outputs": [],
   "source": [
    "hough_img = hough_lines(roi_image, 1, 1*np.pi/180, 30, 65, 20)    # 허프 변환\n",
    "result = weighted_img(hough_img, original_image)\n",
    "cv2.imshow('result', result)\n",
    "\n",
    "cv2.waitKey(0)\n",
    "cv2.destroyAllWindows()"
   ]
  },
  {
   "cell_type": "code",
   "execution_count": null,
   "id": "8f7eca2d-169c-4300-ba50-d71259d1676e",
   "metadata": {},
   "outputs": [],
   "source": []
  }
 ],
 "metadata": {
  "kernelspec": {
   "display_name": "Python 3",
   "language": "python",
   "name": "python3"
  },
  "language_info": {
   "codemirror_mode": {
    "name": "ipython",
    "version": 3
   },
   "file_extension": ".py",
   "mimetype": "text/x-python",
   "name": "python",
   "nbconvert_exporter": "python",
   "pygments_lexer": "ipython3",
   "version": "3.8.10"
  }
 },
 "nbformat": 4,
 "nbformat_minor": 5
}
