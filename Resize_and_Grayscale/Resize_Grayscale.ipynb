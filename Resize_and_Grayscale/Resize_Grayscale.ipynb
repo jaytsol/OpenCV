{
 "cells": [
  {
   "cell_type": "markdown",
   "id": "6fc9be3c-5983-4377-a2fd-6a5bc881a65f",
   "metadata": {},
   "source": [
    "# OpenCV"
   ]
  },
  {
   "cell_type": "markdown",
   "id": "a2620f24-b82d-439f-a914-8b4a90536c6c",
   "metadata": {},
   "source": [
    "### <br>Library"
   ]
  },
  {
   "cell_type": "code",
   "execution_count": 1,
   "id": "c7824a2a-84eb-47e0-9ebf-ab8610005854",
   "metadata": {},
   "outputs": [],
   "source": [
    "import cv2"
   ]
  },
  {
   "cell_type": "code",
   "execution_count": 5,
   "id": "d3c705c6-19d4-492e-92f9-dc54f60af276",
   "metadata": {},
   "outputs": [
    {
     "data": {
      "text/plain": [
       "-1"
      ]
     },
     "execution_count": 5,
     "metadata": {},
     "output_type": "execute_result"
    }
   ],
   "source": [
    "path = \"C:/Users/admin/Desktop/Hustar/OpenCV/Lenna.png\"\n",
    "img = cv2.imread(path)\n",
    "\n",
    "height = img.shape[0]\n",
    "width = img.shape[1]\n",
    "\n",
    "imgGray = cv2.cvtColor(img, cv2.COLOR_BGR2GRAY)\n",
    "imgGray_resized = cv2.resize(imgGray, (200,200))\n",
    "cv2.imshow(\"Gray Image\", imgGray_resized)\n",
    "cv2.waitKey(0)"
   ]
  },
  {
   "cell_type": "code",
   "execution_count": null,
   "id": "4b983782-d680-472c-bcf5-1472e30cdbd9",
   "metadata": {},
   "outputs": [],
   "source": []
  }
 ],
 "metadata": {
  "kernelspec": {
   "display_name": "Python 3",
   "language": "python",
   "name": "python3"
  },
  "language_info": {
   "codemirror_mode": {
    "name": "ipython",
    "version": 3
   },
   "file_extension": ".py",
   "mimetype": "text/x-python",
   "name": "python",
   "nbconvert_exporter": "python",
   "pygments_lexer": "ipython3",
   "version": "3.8.10"
  }
 },
 "nbformat": 4,
 "nbformat_minor": 5
}
